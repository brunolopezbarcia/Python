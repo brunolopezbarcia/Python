{
  "nbformat": 4,
  "nbformat_minor": 0,
  "metadata": {
    "colab": {
      "name": "SumaPython.ipynb",
      "provenance": [],
      "authorship_tag": "ABX9TyPLmbNOn3Tsj/CIfLy2aUg6"
    },
    "kernelspec": {
      "name": "python3",
      "display_name": "Python 3"
    },
    "language_info": {
      "name": "python"
    }
  },
  "cells": [
    {
      "cell_type": "code",
      "execution_count": 1,
      "metadata": {
        "id": "IL_XzAzrjm-e"
      },
      "outputs": [],
      "source": [
        "#suma dos valores dados por el usuario\n",
        "def suma():\n",
        "    entrada1 = int(input(\"Ingrese el primer valor: \"))\n",
        "    entrada2 = int(input(\"Ingrese el segundo valor: \"))\n",
        "    salida = entrada1 + entrada2\n",
        "    print(\"La suma de los valores es: \", salida)"
      ]
    },
    {
      "cell_type": "code",
      "source": [
        "def def_continuar():\n",
        "    print(\"Quiere continuar? (s/n)\")\n",
        "    continuar = input()\n",
        "\n",
        "    if continuar == \"s\":\n",
        "        print(\"Continuar\")\n",
        "        suma()\n",
        "        def_continuar()\n",
        "    else:\n",
        "        print(\"Fin\")\n",
        "        exit()\n"
      ],
      "metadata": {
        "id": "BO0P6SofjpyM"
      },
      "execution_count": 6,
      "outputs": []
    },
    {
      "cell_type": "code",
      "source": [
        "suma(\n",
        ")\n",
        "def_continuar()"
      ],
      "metadata": {
        "colab": {
          "base_uri": "https://localhost:8080/"
        },
        "id": "iHMuOC9HkPeK",
        "outputId": "a337cdf8-e3b8-4092-9766-2cb466518b5e"
      },
      "execution_count": 7,
      "outputs": [
        {
          "output_type": "stream",
          "name": "stdout",
          "text": [
            "Ingrese el primer valor: 5\n",
            "Ingrese el segundo valor: 5\n",
            "La suma de los valores es:  10\n",
            "Quiere continuar? (s/n)\n",
            "s\n",
            "Continuar\n",
            "Ingrese el primer valor: 5\n",
            "Ingrese el segundo valor: 5\n",
            "La suma de los valores es:  10\n",
            "Quiere continuar? (s/n)\n",
            "n\n",
            "Fin\n"
          ]
        }
      ]
    }
  ]
}