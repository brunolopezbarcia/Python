{
  "nbformat": 4,
  "nbformat_minor": 0,
  "metadata": {
    "colab": {
      "name": "Nombre+NumeroRandom.ipynb",
      "provenance": [],
      "authorship_tag": "ABX9TyOm3kXypFRXAnPWpxazWjHX",
      "include_colab_link": true
    },
    "kernelspec": {
      "name": "python3",
      "display_name": "Python 3"
    },
    "language_info": {
      "name": "python"
    }
  },
  "cells": [
    {
      "cell_type": "markdown",
      "metadata": {
        "id": "view-in-github",
        "colab_type": "text"
      },
      "source": [
        "<a href=\"https://colab.research.google.com/github/brunolopezbarcia/Python/blob/main/Nombre%2BNumeroRandom.ipynb\" target=\"_parent\"><img src=\"https://colab.research.google.com/assets/colab-badge.svg\" alt=\"Open In Colab\"/></a>"
      ]
    },
    {
      "cell_type": "code",
      "source": [
        "import random"
      ],
      "metadata": {
        "id": "d_irvlhan-Dv"
      },
      "execution_count": 5,
      "outputs": []
    },
    {
      "cell_type": "code",
      "execution_count": 1,
      "metadata": {
        "id": "T5uy1VDBnpuy"
      },
      "outputs": [],
      "source": [
        "def quemashaces():\n",
        "    print(\"Te digo un numero al azar?(s/n)\")\n",
        "    quemashaces_ = input()\n",
        "    if quemashaces_ == \"s\":\n",
        "        print(\"El numero es: \", random.randint(1,1000000000000))\n",
        "        algomas()\n",
        "    else:\n",
        "        print(\"Fin\")\n",
        "        exit()"
      ]
    },
    {
      "cell_type": "code",
      "source": [
        "def algomas():\n",
        "    continue_ = input(\"Quieres continuar? (s/n)\")\n",
        "    if continue_ == \"s\":\n",
        "        print(\"Continuar\")\n",
        "        quemashaces()\n",
        "    else:\n",
        "        print(\"Fin\")\n",
        "        exit()"
      ],
      "metadata": {
        "id": "swNX_zafnv5u"
      },
      "execution_count": 3,
      "outputs": []
    },
    {
      "cell_type": "code",
      "source": [
        "entrada=input(\"Pon un nombre: \")\n",
        "\n",
        "print(\"Hola\", entrada, \"tienes pensado hacer algo mas?\")\n",
        "\n",
        "algomas()"
      ],
      "metadata": {
        "colab": {
          "base_uri": "https://localhost:8080/"
        },
        "id": "JfFVKL59nygO",
        "outputId": "a74d9c05-26de-4848-b82e-e339503fd39f"
      },
      "execution_count": 6,
      "outputs": [
        {
          "output_type": "stream",
          "name": "stdout",
          "text": [
            "Pon un nombre: Bruno\n",
            "Hola Bruno tienes pensado hacer algo mas?\n",
            "Quieres continuar? (s/n)s\n",
            "Continuar\n",
            "Te digo un numero al azar?(s/n)\n",
            "s\n",
            "El numero es:  846905774294\n",
            "Quieres continuar? (s/n)s\n",
            "Continuar\n",
            "Te digo un numero al azar?(s/n)\n",
            "s\n",
            "El numero es:  606942422558\n",
            "Quieres continuar? (s/n)s\n",
            "Continuar\n",
            "Te digo un numero al azar?(s/n)\n",
            "s\n",
            "El numero es:  217715999801\n",
            "Quieres continuar? (s/n)s\n",
            "Continuar\n",
            "Te digo un numero al azar?(s/n)\n",
            "s\n",
            "El numero es:  10592679617\n",
            "Quieres continuar? (s/n)\n",
            "Fin\n"
          ]
        }
      ]
    }
  ]
}